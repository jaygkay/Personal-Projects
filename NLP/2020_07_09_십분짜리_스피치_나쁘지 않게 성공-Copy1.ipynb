{
 "cells": [
  {
   "cell_type": "code",
   "execution_count": 1,
   "metadata": {},
   "outputs": [],
   "source": [
    "import speech_recognition as sr\n",
    "import os\n",
    "from pydub import AudioSegment\n",
    "from pydub.silence import split_on_silence\n"
   ]
  },
  {
   "cell_type": "code",
   "execution_count": 2,
   "metadata": {},
   "outputs": [],
   "source": [
    "def get_large_audio_transcription(path):\n",
    "    \"\"\"\n",
    "    Splitting the large audio file into chunks\n",
    "    and apply speech recognition on each of these chunks\n",
    "    \"\"\"\n",
    "    # open the audio file using pydub\n",
    "    sound = AudioSegment.from_wav(path)  \n",
    "    # min_silence_len 기준으로 소리를 자른다\n",
    "    chunks = split_on_silence(sound,\n",
    "\n",
    "        # 갭 1000 == 1초 \n",
    "        min_silence_len = 1500,\n",
    "\n",
    "        # -16dBFS (=defaul) 보다 작으면 침묵이라고 간주\n",
    "        silence_thresh = sound.dBFS-16,\n",
    "\n",
    "#         # 말을 끌때 쓰는 소리 길이 (0.2초)\n",
    "#         keep_silence=700,\n",
    "    )\n",
    "    folder_name = \"audio-chunks\"\n",
    "    # create a directory to store the audio chunks\n",
    "    if not os.path.isdir(folder_name):\n",
    "        os.mkdir(folder_name)\n",
    "    whole_text = \"\"\n",
    "    # process each chunk \n",
    "    for i, audio_chunk in enumerate(chunks):\n",
    "        # export audio chunk and save it in\n",
    "        # the `folder_name` directory.\n",
    "        chunk_filename = os.path.join(folder_name, f\"chunk{i}.wav\")\n",
    "        audio_chunk.export(chunk_filename, format=\"wav\")\n",
    "        # recognize the chunk\n",
    "        with sr.AudioFile(chunk_filename) as source:\n",
    "            audio_listened = r.record(source)\n",
    "            # try converting it to text\n",
    "            try:\n",
    "                text = r.recognize_google(audio_listened, language=\"ko-KR\")\n",
    "            except sr.UnknownValueError as e:\n",
    "                print(\"Error:\", str(e))\n",
    "            else:\n",
    "                text = f\"{text.capitalize()}. \"\n",
    "                print(chunk_filename, \":\", text)\n",
    "                whole_text += text\n",
    "    # return the text for all chunks detected\n",
    "    return whole_text\n",
    "\n",
    "\n",
    "def descriptive_stats(file_name):\n",
    "\n",
    "    audio_segment = AudioSegment.from_file(file_name)\n",
    "    \n",
    "    print(f\"- 채널수: {audio_segment.channels}\")\n",
    "    print(f\"- 샘플 길이: {audio_segment.sample_width}\")\n",
    "    print(f\"- 프레임율(frame rate): {audio_segment.frame_rate}\")\n",
    "    print(f\"- 프레임폭(frame width): {audio_segment.frame_width}\")\n",
    "    print(f\"- 길이 (ms): {len(audio_segment)}\")\n",
    "    \n",
    "\n"
   ]
  },
  {
   "cell_type": "code",
   "execution_count": 4,
   "metadata": {},
   "outputs": [],
   "source": [
    "file_name = 'Speech_to_Text.wav'\n",
    "r = sr.Recognizer()\n"
   ]
  },
  {
   "cell_type": "code",
   "execution_count": 5,
   "metadata": {},
   "outputs": [
    {
     "name": "stdout",
     "output_type": "stream",
     "text": [
      "- 채널수: 1\n",
      "- 샘플 길이: 2\n",
      "- 프레임율(frame rate): 48000\n",
      "- 프레임폭(frame width): 2\n",
      "- 길이 (ms): 598548\n"
     ]
    }
   ],
   "source": [
    "descriptive_stats(file_name)"
   ]
  },
  {
   "cell_type": "code",
   "execution_count": 6,
   "metadata": {},
   "outputs": [
    {
     "name": "stdout",
     "output_type": "stream",
     "text": [
      "audio-chunks/chunk0.wav : 오늘 이렇게 여러 국가의 귀중한 손님들 앞에서 베베 영광입니다 특히 저희 오늘의 만남이 성성한 문화적 영감과 저는 그 가장 좋은 예가 라이브 에이드 공연이라고 생각합니다 1985년 웸블리스타디움 당대 최고의 들었습니다 오면은 지금까지도. \n",
      "Error: \n",
      "audio-chunks/chunk2.wav : 그러면 또 많은 시간이 지났습니다 전 세계인이 동시에 갖춘 공연을 보던 경험은 이제 손바닥 위해서 전세계인과 채널을 통해 실시간으로 소통하고 같은 컨텐츠 같은 감독 같은 열광을 하는 것으로 바뀌었음. \n",
      "audio-chunks/chunk3.wav : 그리고 바로 그런 기술을 이용해 나라의 작은 기획사에서 출발한 방탄소년단이 세계적인 단양을 있고. \n",
      "audio-chunks/chunk4.wav : 한국인들이 한국어로 노래하고 춤추는 뮤직비디오에 전 세계인들이 열광했습니다 전 세계인들이 방탄소년단 노래를 대화를 메시지를. \n",
      "audio-chunks/chunk5.wav : 거꾸로 말하면 방탄소년단의 성공이 유튜브 기술의 존재 가치를 파급력을 증명한 것이죠 그럼 여기서 이런 질문을 해 볼 수 있을 것 같습니다 왜 왜 방탄소년단. \n",
      "audio-chunks/chunk6.wav : 답은 간단합니다 그것이 좋은 컨텐츠이기 때문입니다 라이베리아 방탄소년단 줄은 기록 다른 시대에 태어났고 서로 다른 종류의 컨텐츠 모두 좋은 컨텐츠입니다 시대와 세대를 과감하고 적극적인. \n",
      "audio-chunks/chunk7.wav : 사실 모든 컨텐츠는 일종의 발언입니다 중요한 것은 그 발언이 얼마나 보편적이고 동시대적인 올림을 가졌나. \n",
      "audio-chunks/chunk8.wav : 처음 컨텐츠를 접할 때 우리는 대부분 내용의 독창성과 우수함에 내려갑니다 보고들은 적 없는 퍼포먼스 기상천외한 스토리 어마어마한 같은 거. \n",
      "audio-chunks/chunk9.wav : 그런데 그렇게 이야기가 퍼포먼스가 바로 창작자의 발언을 듣게 되는 순간이죠 그리고 느끼게 됩니다 아 이건 내 이야기구나 우리 시대 우리 세대에 대한 이야기구나 비로소 우리는 자신을 돌아보게 됩니다 하나의 컨텐츠가 그런데 한 가지 더 중요한 점이 있습니다. \n",
      "audio-chunks/chunk10.wav : 보편성 가축 수원 취향공동체 어떤 면에서 이율배반적으로 들릴 수 있습니다 과거에도 세상은 복잡했고 사람들은 다양했습니다 하지만 지금은 그 다양성을. \n",
      "audio-chunks/chunk11.wav : 서로 다른 취향과 개성을 지닌 사람들이 좁고 깊은 공동체를 이루고. \n",
      "audio-chunks/chunk12.wav : 이 모든 서로 다른 취향과 개성을 지닌 사람들의 이목을 집중시키고 모드를 같은 열공의 빠지게하는 컨텐츠는 탄생하기 어렵습니다 마이클 잭슨 마돈나 같이 한 순간 전세계를 나타나기 쉽지 않다는 것이죠 그렇다고 전지구적인 열광을 이끌어내는 컨텐츠가 나올 수 없다는 의미는 아닙니다 다만 거기에는 과거와는 다른 방법론에 필요합니다 그것은 일정한 취향을 가지고 사람들의 어마어마한 열광을 통해 존재감을 알리고 그 열광하기대 더 큰 성공을 끌어내는 겁니다 그 예로 어벤져 스 같은 영화를 될 수 있습니다 과거 있습니다 하지만 그 취향공동체 열광. \n",
      "audio-chunks/chunk13.wav : 이천 현대이 좋은 컨텐츠라는 모두가 자신의 이야기라고 공감할 만한 보편적인 바람이자 취향공동체 열광을 이끌어낼 수 있는 특수한 형태의. \n",
      "audio-chunks/chunk14.wav : 결국 좋은 컨텐츠는 지금이 시대 반드시 던져 줘. \n",
      "audio-chunks/chunk15.wav : 이야기를 바꿔 보겠습니다 부산으로 오는 길 창밖으로 바다를 보았습니다 그리고 새삼스럽지만 아세안에 대해서. \n",
      "audio-chunks/chunk16.wav : 7시 반이면 도착할 수 있는 가까운. \n",
      "audio-chunks/chunk17.wav : 바다로 연결되어 있는 나라들 역사를 통해 연결되어 있는 나라들입니다 우리는 모두 역사 속에서 기술수준이 상대적으로 뒤떨어진다 3악장 영업을 했습니다 그 상처를. \n",
      "audio-chunks/chunk18.wav : 지금도 우리는 피나게 노력하고 있고 기술 개발에 박차를 가하고 있습니다. \n",
      "audio-chunks/chunk19.wav : 어떤 면에서는 자랑스러운 성과를 거두기도 했지만 갈 길은 여전히 먼 것 같아 보입니다 장애물도. \n",
      "audio-chunks/chunk20.wav : 일어나면 하남 환경 속에서 우리는 무엇을 할까. \n",
      "audio-chunks/chunk21.wav : 외람 되지만 기른 자명하다고. \n",
      "audio-chunks/chunk22.wav : 지금 당장 우리가 이런 기술 문화를 선도할 무언가를 만들어내는 건 어려울 수도 있습니다 하지만 컨텐츠의 경우는 다릅니다 상대적으로 단기간에 집중을 통해 알 수 있습니다 게다가 우리는 그런 컨텐츠를 만들어낼 수 있는 가능성을 지녔습니다 지금이 시대 반드시 던져 자야하는 발언이라고 말씀드렸습니다 그런 맥락에서 보자면 우리는 기술 문화를 선도하는 나라와는 다른 문화적 역사적 배경을 가지고 있고 그렇게 인간에 대해 다른 시선을 돌리지 말고 다른 각도로 세상을 바라보고 그래서 다른 이야기를 할 수 있습니다 있다는 사실을 발견할 수 있는 것이 있습니다 그래서 우리는 세상에 달려나가는 대신 오히려 좁고 깊은 세상의 이면을 타고 들어갈 수 있습니다 그러므로 소수가 열광하는 색깔과 형식의 컨텐츠를 만들어 내고 그 색깔이 모두에게 닿는 엽서를 만들어낼 수 있음. \n",
      "audio-chunks/chunk23.wav : 그리고 그런 발언은 결국 사람을. \n",
      "audio-chunks/chunk24.wav : 좋은 컨텐츠 몸과 마음으로 알고 느끼고 사랑하는 사람 그래서 오늘 끄집어내고 색깔을 추출할 수 있는 사람 전세계 말을 걸고 전 세계로 하여금 그 발언에 응답하게 할 수 있는 사람 그런 사람의 투자하는 것이 내일의 문화콘텐츠 하는 것입니다 24년전 라이브. \n"
     ]
    },
    {
     "data": {
      "text/plain": [
       "'오늘 이렇게 여러 국가의 귀중한 손님들 앞에서 베베 영광입니다 특히 저희 오늘의 만남이 성성한 문화적 영감과 저는 그 가장 좋은 예가 라이브 에이드 공연이라고 생각합니다 1985년 웸블리스타디움 당대 최고의 들었습니다 오면은 지금까지도. 그러면 또 많은 시간이 지났습니다 전 세계인이 동시에 갖춘 공연을 보던 경험은 이제 손바닥 위해서 전세계인과 채널을 통해 실시간으로 소통하고 같은 컨텐츠 같은 감독 같은 열광을 하는 것으로 바뀌었음. 그리고 바로 그런 기술을 이용해 나라의 작은 기획사에서 출발한 방탄소년단이 세계적인 단양을 있고. 한국인들이 한국어로 노래하고 춤추는 뮤직비디오에 전 세계인들이 열광했습니다 전 세계인들이 방탄소년단 노래를 대화를 메시지를. 거꾸로 말하면 방탄소년단의 성공이 유튜브 기술의 존재 가치를 파급력을 증명한 것이죠 그럼 여기서 이런 질문을 해 볼 수 있을 것 같습니다 왜 왜 방탄소년단. 답은 간단합니다 그것이 좋은 컨텐츠이기 때문입니다 라이베리아 방탄소년단 줄은 기록 다른 시대에 태어났고 서로 다른 종류의 컨텐츠 모두 좋은 컨텐츠입니다 시대와 세대를 과감하고 적극적인. 사실 모든 컨텐츠는 일종의 발언입니다 중요한 것은 그 발언이 얼마나 보편적이고 동시대적인 올림을 가졌나. 처음 컨텐츠를 접할 때 우리는 대부분 내용의 독창성과 우수함에 내려갑니다 보고들은 적 없는 퍼포먼스 기상천외한 스토리 어마어마한 같은 거. 그런데 그렇게 이야기가 퍼포먼스가 바로 창작자의 발언을 듣게 되는 순간이죠 그리고 느끼게 됩니다 아 이건 내 이야기구나 우리 시대 우리 세대에 대한 이야기구나 비로소 우리는 자신을 돌아보게 됩니다 하나의 컨텐츠가 그런데 한 가지 더 중요한 점이 있습니다. 보편성 가축 수원 취향공동체 어떤 면에서 이율배반적으로 들릴 수 있습니다 과거에도 세상은 복잡했고 사람들은 다양했습니다 하지만 지금은 그 다양성을. 서로 다른 취향과 개성을 지닌 사람들이 좁고 깊은 공동체를 이루고. 이 모든 서로 다른 취향과 개성을 지닌 사람들의 이목을 집중시키고 모드를 같은 열공의 빠지게하는 컨텐츠는 탄생하기 어렵습니다 마이클 잭슨 마돈나 같이 한 순간 전세계를 나타나기 쉽지 않다는 것이죠 그렇다고 전지구적인 열광을 이끌어내는 컨텐츠가 나올 수 없다는 의미는 아닙니다 다만 거기에는 과거와는 다른 방법론에 필요합니다 그것은 일정한 취향을 가지고 사람들의 어마어마한 열광을 통해 존재감을 알리고 그 열광하기대 더 큰 성공을 끌어내는 겁니다 그 예로 어벤져 스 같은 영화를 될 수 있습니다 과거 있습니다 하지만 그 취향공동체 열광. 이천 현대이 좋은 컨텐츠라는 모두가 자신의 이야기라고 공감할 만한 보편적인 바람이자 취향공동체 열광을 이끌어낼 수 있는 특수한 형태의. 결국 좋은 컨텐츠는 지금이 시대 반드시 던져 줘. 이야기를 바꿔 보겠습니다 부산으로 오는 길 창밖으로 바다를 보았습니다 그리고 새삼스럽지만 아세안에 대해서. 7시 반이면 도착할 수 있는 가까운. 바다로 연결되어 있는 나라들 역사를 통해 연결되어 있는 나라들입니다 우리는 모두 역사 속에서 기술수준이 상대적으로 뒤떨어진다 3악장 영업을 했습니다 그 상처를. 지금도 우리는 피나게 노력하고 있고 기술 개발에 박차를 가하고 있습니다. 어떤 면에서는 자랑스러운 성과를 거두기도 했지만 갈 길은 여전히 먼 것 같아 보입니다 장애물도. 일어나면 하남 환경 속에서 우리는 무엇을 할까. 외람 되지만 기른 자명하다고. 지금 당장 우리가 이런 기술 문화를 선도할 무언가를 만들어내는 건 어려울 수도 있습니다 하지만 컨텐츠의 경우는 다릅니다 상대적으로 단기간에 집중을 통해 알 수 있습니다 게다가 우리는 그런 컨텐츠를 만들어낼 수 있는 가능성을 지녔습니다 지금이 시대 반드시 던져 자야하는 발언이라고 말씀드렸습니다 그런 맥락에서 보자면 우리는 기술 문화를 선도하는 나라와는 다른 문화적 역사적 배경을 가지고 있고 그렇게 인간에 대해 다른 시선을 돌리지 말고 다른 각도로 세상을 바라보고 그래서 다른 이야기를 할 수 있습니다 있다는 사실을 발견할 수 있는 것이 있습니다 그래서 우리는 세상에 달려나가는 대신 오히려 좁고 깊은 세상의 이면을 타고 들어갈 수 있습니다 그러므로 소수가 열광하는 색깔과 형식의 컨텐츠를 만들어 내고 그 색깔이 모두에게 닿는 엽서를 만들어낼 수 있음. 그리고 그런 발언은 결국 사람을. 좋은 컨텐츠 몸과 마음으로 알고 느끼고 사랑하는 사람 그래서 오늘 끄집어내고 색깔을 추출할 수 있는 사람 전세계 말을 걸고 전 세계로 하여금 그 발언에 응답하게 할 수 있는 사람 그런 사람의 투자하는 것이 내일의 문화콘텐츠 하는 것입니다 24년전 라이브. '"
      ]
     },
     "execution_count": 6,
     "metadata": {},
     "output_type": "execute_result"
    }
   ],
   "source": [
    "get_large_audio_transcription(\"Speech_to_Text.wav\") "
   ]
  },
  {
   "cell_type": "code",
   "execution_count": null,
   "metadata": {},
   "outputs": [],
   "source": []
  },
  {
   "cell_type": "code",
   "execution_count": null,
   "metadata": {},
   "outputs": [],
   "source": []
  },
  {
   "cell_type": "code",
   "execution_count": null,
   "metadata": {},
   "outputs": [],
   "source": []
  }
 ],
 "metadata": {
  "kernelspec": {
   "display_name": "Python 3",
   "language": "python",
   "name": "python3"
  },
  "language_info": {
   "codemirror_mode": {
    "name": "ipython",
    "version": 3
   },
   "file_extension": ".py",
   "mimetype": "text/x-python",
   "name": "python",
   "nbconvert_exporter": "python",
   "pygments_lexer": "ipython3",
   "version": "3.7.4"
  }
 },
 "nbformat": 4,
 "nbformat_minor": 2
}
